{
 "cells": [
  {
   "cell_type": "code",
   "execution_count": null,
   "metadata": {},
   "outputs": [],
   "source": [
    "#----------------------------------------------------------------------------------------------------------------------------------#\n",
    "# Use this only if you have to reprogram the arduino. This will prorgam the .ino file found in the 'arduino_sketchbook' folder\n",
    "# to the attached arduino via the USB UART.\n",
    "#----------------------------------------------------------------------------------------------------------------------------------#\n",
    "\n",
    "%cd arduino_sketchbook_leading_car\n",
    "! make clean upload;\n",
    "%cd .."
   ]
  },
  {
   "cell_type": "code",
   "execution_count": null,
   "metadata": {},
   "outputs": [],
   "source": [
    "#----------------------------------------------------------------------------------------------------------------------------------#\n",
    "# Loading necessary libraries and their instantiations. Make sure that the Camera instantation happens only once or it ends up \n",
    "# breaking the notebook and would require a restart. We use pygame to emulate a display even though there isn't one :E.\n",
    "#----------------------------------------------------------------------------------------------------------------------------------#\n",
    "\n",
    "import warnings\n",
    "warnings.filterwarnings('ignore')\n",
    "\n",
    "import traitlets\n",
    "from IPython.display import display\n",
    "\n",
    "from time import sleep\n",
    "import threading \n",
    "import os\n",
    "\n",
    "import cv2\n",
    "\n",
    "import pygame\n",
    "import pygame.display\n",
    "\n",
    "os.environ[\"SDL_VIDEODRIVER\"] = \"dummy\"\n",
    "pygame.display.init()\n",
    "screen = pygame.display.set_mode((1,1))\n",
    "\n",
    "pygame.init()\n",
    "clock = pygame.time.Clock()\n",
    "pygame.joystick.init()\n",
    "\n",
    "import serial\n",
    "ser = serial.Serial('/dev/ttyACM0', 57600, timeout = 0.5)\n",
    "\n",
    "from misc_scripts.rpi_camera import CSICamera\n",
    "camera = CSICamera(width=300, height=300)\n",
    "\n",
    "import ipywidgets.widgets as widgets\n",
    "image_widget = widgets.Image(format='jpeg', width=300, height=300)\n",
    "\n",
    "print('Primary initializations complete.')"
   ]
  },
  {
   "cell_type": "code",
   "execution_count": null,
   "metadata": {},
   "outputs": [],
   "source": [
    "#----------------------------------------------------------------------------------------------------------------------------------#\n",
    "# Send Throttle and Steering values for the servos to the arduino connected via the USB UART serial.\n",
    "#----------------------------------------------------------------------------------------------------------------------------------#\n",
    "def serial_writer(val1, val2):\n",
    "    val1 = format(val1,\"03d\")\n",
    "    val2 = format(val2,\"03d\")\n",
    "    val = val1 + ',' + val2 + '*'\n",
    "    ser.write(str(val).encode())\n",
    "\n",
    "#----------------------------------------------------------------------------------------------------------------------------------#\n",
    "# Follows from the arduino 'map' funciton used to translate one range of values to another range. \n",
    "#----------------------------------------------------------------------------------------------------------------------------------#\n",
    "def constrain(val, min_val, max_val):\n",
    "    return min(max_val, max(min_val, val))\n",
    "\n",
    "def mapper(x, in_min, in_max, out_min, out_max):\n",
    "    return int((x - in_min) * (out_max - out_min) / (in_max - in_min) + out_min)   \n",
    "\n",
    "#----------------------------------------------------------------------------------------------------------------------------------#\n",
    "# Converts image to a bytes format for display with a Jupyter Image widget.\n",
    "#----------------------------------------------------------------------------------------------------------------------------------#\n",
    "def bgr8_to_jpeg(value, quality = 75):\n",
    "    return bytes(cv2.imencode('.jpg', value)[1])"
   ]
  },
  {
   "cell_type": "code",
   "execution_count": null,
   "metadata": {},
   "outputs": [],
   "source": [
    "camera.running = True\n",
    "camera1_link = traitlets.dlink((camera, 'value'), (image_widget, 'value'), transform=bgr8_to_jpeg)"
   ]
  },
  {
   "cell_type": "code",
   "execution_count": null,
   "metadata": {},
   "outputs": [],
   "source": [
    "camera1_link.link()"
   ]
  },
  {
   "cell_type": "code",
   "execution_count": null,
   "metadata": {},
   "outputs": [],
   "source": [
    "#----------------------------------------------------------------------------------------------------------------------------------#\n",
    "# The PS4 Joystick axes values are mapped to the throttle and steering values that need to be communicated with the Arduino \n",
    "# via Serial. axis #2 corresponds to the steering and axis #1 refers to the throttle.\n",
    "# Important! If you want to make any changes or stop the execution, this cell executes a while loop, you would have to Interrupt \n",
    "# the execution of this cell, and then stop the runnig of the camera.\n",
    "#----------------------------------------------------------------------------------------------------------------------------------#\n",
    "\n",
    "display(widgets.VBox([image_widget]))\n",
    "\n",
    "while True:    \n",
    "    pygame.event.get()         \n",
    "\n",
    "    joystick = pygame.joystick.Joystick(0)\n",
    "    joystick.init()\n",
    "    \n",
    "    steering_axis = joystick.get_axis(2)\n",
    "    steering_axis_mapped = mapper(steering_axis, -1, 1, 135, 45)\n",
    "\n",
    "    throttle_axis = joystick.get_axis(1)   \n",
    "    \n",
    "    # there is a break in the range since the inbetween values from 90 to 98 don't result in movement \n",
    "    if throttle_axis < 0:\n",
    "        throttle_axis_mapped = mapper(throttle_axis, -1, 0, 85, 90)\n",
    "    if throttle_axis > 0:\n",
    "        throttle_axis_mapped = mapper(throttle_axis, 0, 1, 98, 110)\n",
    "        \n",
    "    if throttle_axis == 0:\n",
    "        throttle_axis_mapped = 92\n",
    "               \n",
    "    serial_writer(steering_axis_mapped, throttle_axis_mapped)\n",
    "\n",
    "    pygame.display.flip()\n",
    "    clock.tick(20)   "
   ]
  },
  {
   "cell_type": "code",
   "execution_count": null,
   "metadata": {},
   "outputs": [],
   "source": [
    "#----------------------------------------------------------------------------------------------------------------------------------#\n",
    "# To make any kind of changes to the while loop above, run this after you have interrupted it's execution. \n",
    "# Camera has to be stopped first or else everything else goes kaput.\n",
    "#----------------------------------------------------------------------------------------------------------------------------------#\n",
    "\n",
    "camera.running = False\n",
    "camera1_link.unlink()\n",
    "ser.flush()\n",
    "pygame.quit()"
   ]
  },
  {
   "cell_type": "code",
   "execution_count": null,
   "metadata": {},
   "outputs": [],
   "source": []
  },
  {
   "cell_type": "code",
   "execution_count": null,
   "metadata": {},
   "outputs": [],
   "source": [
    "#----------------------------------------------------------------------------------------------------------------------------------#\n",
    "# Experimental code to try and identify if the Joystick disconnects and attempt reconnection. Not tested. Might come in handy.\n",
    "#----------------------------------------------------------------------------------------------------------------------------------#\n",
    "\n",
    "# discon = False\n",
    "# def check_pad():\n",
    "#     global discon\n",
    "#     pygame.joystick.quit()\n",
    "#     pygame.joystick.init()\n",
    "#     joystick_count = pygame.joystick.get_count()\n",
    "#     for i in range(joystick_count):\n",
    "#         joystick = pygame.joystick.Joystick(i)\n",
    "#         joystick.init()\n",
    "#     if not joystick_count: \n",
    "#         if not discon:\n",
    "#             print(\"reconnect you meat bag\")\n",
    "#             discon = True\n",
    "#         clock.tick(20)\n",
    "#         check_pad()\n",
    "#     else:\n",
    "#         discon = False"
   ]
  }
 ],
 "metadata": {
  "kernelspec": {
   "display_name": "Python 3",
   "language": "python",
   "name": "python3"
  },
  "language_info": {
   "codemirror_mode": {
    "name": "ipython",
    "version": 3
   },
   "file_extension": ".py",
   "mimetype": "text/x-python",
   "name": "python",
   "nbconvert_exporter": "python",
   "pygments_lexer": "ipython3",
   "version": "3.6.9"
  }
 },
 "nbformat": 4,
 "nbformat_minor": 4
}
